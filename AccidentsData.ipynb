{
 "cells": [
  {
   "cell_type": "raw",
   "metadata": {},
   "source": [
    "Project to prepare visualise and analyse data from an open source dataset (Dataset from Portal Open Data BCN, the Ajuntament de Barcelona's open data service('Kaggle.com')). \n",
    "\n",
    "In this project, I am going to look at a dataset (accidents.csv) and build a regression model to predict the safe districts based on the list of accidents in the city of Barcelona. \n",
    "\n",
    "For this, I'll take the following appraoch:\n",
    "\n",
    "    - Collect data\n",
    "    - Examine the dataset\n",
    "    - Prepare the dataset\n",
    "    - Select a learning model\n",
    "    - Train the model\n",
    "    - Evaluate model \n",
    "    - Present the results\n",
    "      \n",
    "Prerequisites:\n",
    "\n",
    "    - Apache Spark\n",
    "    - Jupyter Notebook\n"
   ]
  },
  {
   "cell_type": "raw",
   "metadata": {},
   "source": [
    "# Start a spark session"
   ]
  },
  {
   "cell_type": "code",
   "execution_count": 1,
   "metadata": {},
   "outputs": [],
   "source": [
    "from pyspark.sql import SparkSession"
   ]
  },
  {
   "cell_type": "raw",
   "metadata": {},
   "source": [
    "# Create an app"
   ]
  },
  {
   "cell_type": "code",
   "execution_count": 2,
   "metadata": {},
   "outputs": [],
   "source": [
    "spark = SparkSession.builder.appName('AccData').getOrCreate()"
   ]
  },
  {
   "cell_type": "raw",
   "metadata": {},
   "source": [
    "# Download data from a data source. Data set is from the Portal Open Data BCN, the Ajuntament de Barcelona's open data service \n",
    "# Initial dataset is in csv format\n",
    "# Load the csv data into spark dataframe"
   ]
  },
  {
   "cell_type": "code",
   "execution_count": 3,
   "metadata": {},
   "outputs": [],
   "source": [
    "all_data = spark.read.csv('accidents.csv', inferSchema = 'True', header = True)"
   ]
  },
  {
   "cell_type": "raw",
   "metadata": {},
   "source": [
    "# See the data type or schema of each column."
   ]
  },
  {
   "cell_type": "code",
   "execution_count": 4,
   "metadata": {},
   "outputs": [
    {
     "name": "stdout",
     "output_type": "stream",
     "text": [
      "root\n",
      " |-- Id: string (nullable = true)\n",
      " |-- District Name: string (nullable = true)\n",
      " |-- Neighborhood Name: string (nullable = true)\n",
      " |-- Street: string (nullable = true)\n",
      " |-- Weekday: string (nullable = true)\n",
      " |-- Month: string (nullable = true)\n",
      " |-- Day: integer (nullable = true)\n",
      " |-- Hour: integer (nullable = true)\n",
      " |-- Part of the day: string (nullable = true)\n",
      " |-- Mild injuries: integer (nullable = true)\n",
      " |-- Serious injuries: integer (nullable = true)\n",
      " |-- Victims: integer (nullable = true)\n",
      " |-- Vehicles involved: integer (nullable = true)\n",
      " |-- Longitude: double (nullable = true)\n",
      " |-- Latitude: double (nullable = true)\n",
      "\n"
     ]
    }
   ],
   "source": [
    "all_data.printSchema()"
   ]
  },
  {
   "cell_type": "raw",
   "metadata": {},
   "source": [
    "# You can show first n operations. Select columns from dataframe and show first 5 rows. All_data.select(‘columnA’, ‘columnB’).show(5)\n",
    "# For example: all_data.head(5) for first five observations"
   ]
  },
  {
   "cell_type": "code",
   "execution_count": 5,
   "metadata": {},
   "outputs": [
    {
     "name": "stdout",
     "output_type": "stream",
     "text": [
      "+---------------+-------------+--------------------+--------------------+---------+---------+---+----+---------------+-------------+----------------+-------+-----------------+----------+-----------+\n",
      "|             Id|District Name|   Neighborhood Name|              Street|  Weekday|    Month|Day|Hour|Part of the day|Mild injuries|Serious injuries|Victims|Vehicles involved| Longitude|   Latitude|\n",
      "+---------------+-------------+--------------------+--------------------+---------+---------+---+----+---------------+-------------+----------------+-------+-----------------+----------+-----------+\n",
      "|2017S008429    |      Unknown|             Unknown|Número 27        ...|   Friday|  October| 13|   8|        Morning|            2|               0|      2|                2|2.12562442|41.34004482|\n",
      "|2017S007316    |      Unknown|             Unknown|Número 3 Zona Fra...|   Friday|September|  1|  13|        Morning|            2|               0|      2|                2|2.12045245|41.33942606|\n",
      "|2017S010210    |      Unknown|             Unknown|Litoral (Besòs)  ...|   Friday| December|  8|  21|      Afternoon|            5|               0|      5|                2| 2.1673561| 41.3608855|\n",
      "|2017S006364    |      Unknown|             Unknown|Número 3 Zona Fra...|   Friday|     July| 21|   2|          Night|            1|               0|      1|                2|2.12452894|41.33766786|\n",
      "|2017S004615    |   Sant Martí|el Camp de l'Arpa...|Las Navas de Tolo...| Thursday|      May| 25|  14|      Afternoon|            1|               0|      1|                3|  2.185272|  41.416365|\n",
      "|2017S007775    |   Sant Martí|el Camp de l'Arpa...|Indústria / Trinx...|Wednesday|September| 20|  12|        Morning|            1|               0|      1|                2|  2.183245|  41.416336|\n",
      "|2017S004484    |   Sant Martí|el Camp de l'Arpa...|Trinxant / Indúst...| Saturday|      May| 20|  21|      Afternoon|            1|               0|      1|                2|  2.183245|  41.416336|\n",
      "|2017S010680    |   Sant Martí|el Camp de l'Arpa...|Indústria        ...|  Tuesday| December| 26|  20|      Afternoon|            2|               0|      2|                1|  2.183561|  41.416372|\n",
      "|2017S005152    |   Sant Martí|el Camp de l'Arpa...|Indústria        ...|   Monday|     June| 12|  15|      Afternoon|            1|               0|      1|                1|  2.184059|  41.416763|\n",
      "|2017S003932    |   Sant Martí|el Camp de l'Arpa...|Maragall         ...|Wednesday|      May|  3|  20|      Afternoon|            1|               0|      1|                1|  2.181225|  41.413958|\n",
      "|2017S010348    |   Sant Martí|el Camp de l'Arpa...|Indústria        ...| Thursday| December| 14|  20|      Afternoon|            1|               0|      1|                2|   2.18229|  41.415772|\n",
      "|2017S000245    |   Sant Martí|el Camp de l'Arpa...|ST ANTONI M CLARE...|Wednesday|  January| 11|   7|        Morning|            1|               0|      1|                2|  2.180453|   41.41579|\n",
      "|2017S005695    |   Sant Martí|el Camp de l'Arpa...|Sant Antoni Maria...|   Friday|     June| 30|  12|        Morning|            1|               0|      1|                2|   2.18114|  41.416295|\n",
      "|2017S007384    |   Sant Martí|el Camp de l'Arpa...|Sant Antoni Maria...|   Monday|September|  4|  16|      Afternoon|            0|               1|      1|                2|  2.176324|  41.412546|\n",
      "|2017S008080    |   Sant Martí|el Camp de l'Arpa...|Sant Antoni Maria...| Saturday|September| 30|  19|      Afternoon|            1|               0|      1|                2|  2.176324|  41.412546|\n",
      "|2017S003439    |   Sant Martí|el Camp de l'Arpa...|Còrsega / Còrsega...|   Monday|    April| 17|  14|      Afternoon|            1|               0|      1|                2|  2.178314|  41.410784|\n",
      "|2017S002410    |   Sant Martí|el Camp de l'Arpa...|CÒRSEGA / Dos de ...| Saturday|    March| 25|  14|      Afternoon|            4|               0|      4|                2|  2.177719|  41.410323|\n",
      "|2017S009296    |   Sant Martí|el Camp de l'Arpa...|Indústria        ...| Thursday| November|  9|  22|          Night|            1|               0|      1|                1|   2.17674|  41.411445|\n",
      "|2017S010102    |   Sant Martí|el Camp de l'Arpa...|Rosselló / Indepe...|   Monday| December|  4|   0|          Night|            2|               0|      2|                2|    2.1801|  41.410287|\n",
      "|2017S002158    |   Sant Martí|el Camp de l'Arpa...|VALÈNCIA         ...|   Friday|    March| 17|  16|      Afternoon|            1|               0|      1|                2|  2.184855|  41.408993|\n",
      "+---------------+-------------+--------------------+--------------------+---------+---------+---+----+---------------+-------------+----------------+-------+-----------------+----------+-----------+\n",
      "only showing top 20 rows\n",
      "\n"
     ]
    }
   ],
   "source": [
    "all_data.show()"
   ]
  },
  {
   "cell_type": "raw",
   "metadata": {},
   "source": [
    "# See the descriptive statistics between two pairwise columns.This operation is called a crosstab. \n",
    "# For example, you can count the victims for vehicles involved."
   ]
  },
  {
   "cell_type": "code",
   "execution_count": 6,
   "metadata": {},
   "outputs": [
    {
     "name": "stdout",
     "output_type": "stream",
     "text": [
      "+----------------------------------+---+----+---+---+---+---+----+---+---+---+---+---+---+---+\n",
      "|Serious injuries_Vehicles involved|  0|   1| 10| 11| 13| 14|   2|  3|  4|  5|  6|  7|  8|  9|\n",
      "+----------------------------------+---+----+---+---+---+---+----+---+---+---+---+---+---+---+\n",
      "|                                 2|  0|   7|  0|  0|  1|  0|   6|  0|  1|  0|  0|  0|  0|  0|\n",
      "|                                 4|  0|   0|  0|  0|  0|  0|   1|  0|  0|  0|  0|  0|  0|  0|\n",
      "|                                 1|  0|  74|  0|  0|  0|  0| 113| 18|  0|  2|  0|  0|  0|  0|\n",
      "|                                 0|  5|2179|  2|  1|  0|  1|6911|780|164| 46| 14|  6|  2|  5|\n",
      "+----------------------------------+---+----+---+---+---+---+----+---+---+---+---+---+---+---+\n",
      "\n"
     ]
    }
   ],
   "source": [
    "all_data.crosstab(\"Serious injuries\", \"Vehicles involved\").show()"
   ]
  },
  {
   "cell_type": "code",
   "execution_count": 7,
   "metadata": {},
   "outputs": [
    {
     "data": {
      "text/plain": [
       "10339"
      ]
     },
     "execution_count": 7,
     "metadata": {},
     "output_type": "execute_result"
    }
   ],
   "source": [
    "all_data.count()"
   ]
  },
  {
   "cell_type": "raw",
   "metadata": {},
   "source": [
    "# There are two APIs to drop columns:\n",
    "    drop(): Drop a column\n",
    "    dropna(): Drop N"
   ]
  },
  {
   "cell_type": "raw",
   "metadata": {},
   "source": [
    "# Clean the dataset for any unwanted parameters, such as rows or columns not required for analysis. \n",
    "\n",
    "# To drop duplicates, all_data.select(‘columnA’, ‘columnB’).dropDuplicates().show()\n",
    "# To drop null values, all_data.dropna().count()\n",
    "# To fill null values with a constant, all_data.fillna(‘new value’)\n"
   ]
  },
  {
   "cell_type": "code",
   "execution_count": 8,
   "metadata": {},
   "outputs": [
    {
     "data": {
      "text/plain": [
       "DataFrame[Id: string, District Name: string, Neighborhood Name: string, Street: string, Weekday: string, Month: string, Day: int, Hour: int, Part of the day: string, Mild injuries: int, Serious injuries: int, Victims: int, Vehicles involved: int, Longitude: double, Latitude: double]"
      ]
     },
     "execution_count": 8,
     "metadata": {},
     "output_type": "execute_result"
    }
   ],
   "source": [
    "all_data.fillna('null')"
   ]
  },
  {
   "cell_type": "code",
   "execution_count": 9,
   "metadata": {},
   "outputs": [
    {
     "name": "stdout",
     "output_type": "stream",
     "text": [
      "root\n",
      " |-- Id: string (nullable = true)\n",
      " |-- District Name: string (nullable = true)\n",
      " |-- Neighborhood Name: string (nullable = true)\n",
      " |-- Street: string (nullable = true)\n",
      " |-- Weekday: string (nullable = true)\n",
      " |-- Month: string (nullable = true)\n",
      " |-- Day: integer (nullable = true)\n",
      " |-- Hour: integer (nullable = true)\n",
      " |-- Part of the day: string (nullable = true)\n",
      " |-- Mild injuries: integer (nullable = true)\n",
      " |-- Serious injuries: integer (nullable = true)\n",
      " |-- Victims: integer (nullable = true)\n",
      " |-- Vehicles involved: integer (nullable = true)\n",
      " |-- Longitude: double (nullable = true)\n",
      " |-- Latitude: double (nullable = true)\n",
      "\n"
     ]
    }
   ],
   "source": [
    "all_data.printSchema()"
   ]
  },
  {
   "cell_type": "code",
   "execution_count": 10,
   "metadata": {},
   "outputs": [],
   "source": [
    "data = all_data.drop('Id', 'Neighborhood Name', 'Street', 'Month')"
   ]
  },
  {
   "cell_type": "code",
   "execution_count": 11,
   "metadata": {},
   "outputs": [
    {
     "name": "stdout",
     "output_type": "stream",
     "text": [
      "root\n",
      " |-- District Name: string (nullable = true)\n",
      " |-- Weekday: string (nullable = true)\n",
      " |-- Day: integer (nullable = true)\n",
      " |-- Hour: integer (nullable = true)\n",
      " |-- Part of the day: string (nullable = true)\n",
      " |-- Mild injuries: integer (nullable = true)\n",
      " |-- Serious injuries: integer (nullable = true)\n",
      " |-- Victims: integer (nullable = true)\n",
      " |-- Vehicles involved: integer (nullable = true)\n",
      " |-- Longitude: double (nullable = true)\n",
      " |-- Latitude: double (nullable = true)\n",
      "\n"
     ]
    }
   ],
   "source": [
    "data.printSchema()"
   ]
  },
  {
   "cell_type": "raw",
   "metadata": {},
   "source": [
    "# Investigate Categorical Columns\n",
    "Our goal here is to end up with a data set that’s ready for machine learning, meaning that it contains no missing values and that all values in columns are numeric (float or int data type)."
   ]
  },
  {
   "cell_type": "code",
   "execution_count": 12,
   "metadata": {},
   "outputs": [],
   "source": [
    "from pyspark.ml.linalg import Vectors\n",
    "from pyspark.ml.feature import VectorAssembler, StringIndexer"
   ]
  },
  {
   "cell_type": "code",
   "execution_count": 13,
   "metadata": {},
   "outputs": [],
   "source": [
    "dIndexer = StringIndexer(inputCol = 'District Name', outputCol = 'DName_Index')"
   ]
  },
  {
   "cell_type": "code",
   "execution_count": 14,
   "metadata": {},
   "outputs": [],
   "source": [
    "dIndxmodel = dIndexer.fit(data)"
   ]
  },
  {
   "cell_type": "code",
   "execution_count": 15,
   "metadata": {},
   "outputs": [],
   "source": [
    "ddata = dIndxmodel.transform(data)"
   ]
  },
  {
   "cell_type": "code",
   "execution_count": 16,
   "metadata": {},
   "outputs": [
    {
     "name": "stdout",
     "output_type": "stream",
     "text": [
      "root\n",
      " |-- District Name: string (nullable = true)\n",
      " |-- Weekday: string (nullable = true)\n",
      " |-- Day: integer (nullable = true)\n",
      " |-- Hour: integer (nullable = true)\n",
      " |-- Part of the day: string (nullable = true)\n",
      " |-- Mild injuries: integer (nullable = true)\n",
      " |-- Serious injuries: integer (nullable = true)\n",
      " |-- Victims: integer (nullable = true)\n",
      " |-- Vehicles involved: integer (nullable = true)\n",
      " |-- Longitude: double (nullable = true)\n",
      " |-- Latitude: double (nullable = true)\n",
      " |-- DName_Index: double (nullable = false)\n",
      "\n"
     ]
    }
   ],
   "source": [
    "ddata.printSchema()"
   ]
  },
  {
   "cell_type": "code",
   "execution_count": 17,
   "metadata": {},
   "outputs": [],
   "source": [
    "windexer = StringIndexer(inputCol = 'Weekday', outputCol = 'W_Index')"
   ]
  },
  {
   "cell_type": "code",
   "execution_count": 18,
   "metadata": {},
   "outputs": [],
   "source": [
    "wIndxmodel = windexer.fit(ddata)"
   ]
  },
  {
   "cell_type": "code",
   "execution_count": 19,
   "metadata": {},
   "outputs": [],
   "source": [
    "wdata = wIndxmodel.transform(ddata)"
   ]
  },
  {
   "cell_type": "code",
   "execution_count": 20,
   "metadata": {},
   "outputs": [
    {
     "name": "stdout",
     "output_type": "stream",
     "text": [
      "root\n",
      " |-- District Name: string (nullable = true)\n",
      " |-- Weekday: string (nullable = true)\n",
      " |-- Day: integer (nullable = true)\n",
      " |-- Hour: integer (nullable = true)\n",
      " |-- Part of the day: string (nullable = true)\n",
      " |-- Mild injuries: integer (nullable = true)\n",
      " |-- Serious injuries: integer (nullable = true)\n",
      " |-- Victims: integer (nullable = true)\n",
      " |-- Vehicles involved: integer (nullable = true)\n",
      " |-- Longitude: double (nullable = true)\n",
      " |-- Latitude: double (nullable = true)\n",
      " |-- DName_Index: double (nullable = false)\n",
      " |-- W_Index: double (nullable = false)\n",
      "\n"
     ]
    }
   ],
   "source": [
    "wdata.printSchema()"
   ]
  },
  {
   "cell_type": "code",
   "execution_count": 21,
   "metadata": {},
   "outputs": [],
   "source": [
    "pdayindexer = StringIndexer(inputCol = 'Part of the day', outputCol = 'Pday_Index')"
   ]
  },
  {
   "cell_type": "code",
   "execution_count": 22,
   "metadata": {},
   "outputs": [],
   "source": [
    "pdayIndxmodel = pdayindexer.fit(wdata)"
   ]
  },
  {
   "cell_type": "code",
   "execution_count": 23,
   "metadata": {},
   "outputs": [],
   "source": [
    "pdata = pdayIndxmodel.transform(wdata)"
   ]
  },
  {
   "cell_type": "code",
   "execution_count": 24,
   "metadata": {},
   "outputs": [
    {
     "name": "stdout",
     "output_type": "stream",
     "text": [
      "root\n",
      " |-- District Name: string (nullable = true)\n",
      " |-- Weekday: string (nullable = true)\n",
      " |-- Day: integer (nullable = true)\n",
      " |-- Hour: integer (nullable = true)\n",
      " |-- Part of the day: string (nullable = true)\n",
      " |-- Mild injuries: integer (nullable = true)\n",
      " |-- Serious injuries: integer (nullable = true)\n",
      " |-- Victims: integer (nullable = true)\n",
      " |-- Vehicles involved: integer (nullable = true)\n",
      " |-- Longitude: double (nullable = true)\n",
      " |-- Latitude: double (nullable = true)\n",
      " |-- DName_Index: double (nullable = false)\n",
      " |-- W_Index: double (nullable = false)\n",
      " |-- Pday_Index: double (nullable = false)\n",
      "\n"
     ]
    }
   ],
   "source": [
    "pdata.printSchema()"
   ]
  },
  {
   "cell_type": "code",
   "execution_count": 25,
   "metadata": {},
   "outputs": [
    {
     "name": "stdout",
     "output_type": "stream",
     "text": [
      "+---------+-------+\n",
      "|  Weekday|W_Index|\n",
      "+---------+-------+\n",
      "|   Friday|    0.0|\n",
      "|   Friday|    0.0|\n",
      "|   Friday|    0.0|\n",
      "|   Friday|    0.0|\n",
      "| Thursday|    2.0|\n",
      "|Wednesday|    3.0|\n",
      "| Saturday|    5.0|\n",
      "|  Tuesday|    1.0|\n",
      "|   Monday|    4.0|\n",
      "|Wednesday|    3.0|\n",
      "| Thursday|    2.0|\n",
      "|Wednesday|    3.0|\n",
      "|   Friday|    0.0|\n",
      "|   Monday|    4.0|\n",
      "| Saturday|    5.0|\n",
      "|   Monday|    4.0|\n",
      "| Saturday|    5.0|\n",
      "| Thursday|    2.0|\n",
      "|   Monday|    4.0|\n",
      "|   Friday|    0.0|\n",
      "+---------+-------+\n",
      "only showing top 20 rows\n",
      "\n"
     ]
    }
   ],
   "source": [
    "pdata.select('Weekday', 'W_Index').show()"
   ]
  },
  {
   "cell_type": "raw",
   "metadata": {},
   "source": [
    "## Setting Up Dataframe for Machine Learning "
   ]
  },
  {
   "cell_type": "raw",
   "metadata": {},
   "source": [
    "# A few things we need to do before Spark can accept the data!\n",
    "# It needs to be in the form of two columns : \"label\",\"features\")"
   ]
  },
  {
   "cell_type": "code",
   "execution_count": 26,
   "metadata": {},
   "outputs": [],
   "source": [
    "from pyspark.ml.linalg import Vectors\n",
    "from pyspark.ml.feature import VectorAssembler"
   ]
  },
  {
   "cell_type": "code",
   "execution_count": 27,
   "metadata": {},
   "outputs": [
    {
     "data": {
      "text/plain": [
       "['District Name',\n",
       " 'Weekday',\n",
       " 'Day',\n",
       " 'Hour',\n",
       " 'Part of the day',\n",
       " 'Mild injuries',\n",
       " 'Serious injuries',\n",
       " 'Victims',\n",
       " 'Vehicles involved',\n",
       " 'Longitude',\n",
       " 'Latitude',\n",
       " 'DName_Index',\n",
       " 'W_Index',\n",
       " 'Pday_Index']"
      ]
     },
     "execution_count": 27,
     "metadata": {},
     "output_type": "execute_result"
    }
   ],
   "source": [
    "pdata.columns"
   ]
  },
  {
   "cell_type": "code",
   "execution_count": 28,
   "metadata": {},
   "outputs": [],
   "source": [
    "assembler = VectorAssembler(\n",
    "    inputCols=[\"W_Index\", \"Day\", \"Hour\", \"Latitude\", \"Longitude\", \"Pday_Index\", \"Vehicles involved\", \"DName_Index\"],\n",
    "    outputCol=\"features\")"
   ]
  },
  {
   "cell_type": "code",
   "execution_count": 29,
   "metadata": {},
   "outputs": [],
   "source": [
    "output = assembler.transform(pdata)"
   ]
  },
  {
   "cell_type": "code",
   "execution_count": 30,
   "metadata": {},
   "outputs": [
    {
     "name": "stdout",
     "output_type": "stream",
     "text": [
      "+-------------+---------+---+----+---------------+-------------+----------------+-------+-----------------+----------+-----------+-----------+-------+----------+--------------------+\n",
      "|District Name|  Weekday|Day|Hour|Part of the day|Mild injuries|Serious injuries|Victims|Vehicles involved| Longitude|   Latitude|DName_Index|W_Index|Pday_Index|            features|\n",
      "+-------------+---------+---+----+---------------+-------------+----------------+-------+-----------------+----------+-----------+-----------+-------+----------+--------------------+\n",
      "|      Unknown|   Friday| 13|   8|        Morning|            2|               0|      2|                2|2.12562442|41.34004482|       10.0|    0.0|       1.0|[0.0,13.0,8.0,41....|\n",
      "|      Unknown|   Friday|  1|  13|        Morning|            2|               0|      2|                2|2.12045245|41.33942606|       10.0|    0.0|       1.0|[0.0,1.0,13.0,41....|\n",
      "|      Unknown|   Friday|  8|  21|      Afternoon|            5|               0|      5|                2| 2.1673561| 41.3608855|       10.0|    0.0|       0.0|[0.0,8.0,21.0,41....|\n",
      "|      Unknown|   Friday| 21|   2|          Night|            1|               0|      1|                2|2.12452894|41.33766786|       10.0|    0.0|       2.0|[0.0,21.0,2.0,41....|\n",
      "|   Sant Martí| Thursday| 25|  14|      Afternoon|            1|               0|      1|                3|  2.185272|  41.416365|        1.0|    2.0|       0.0|[2.0,25.0,14.0,41...|\n",
      "|   Sant Martí|Wednesday| 20|  12|        Morning|            1|               0|      1|                2|  2.183245|  41.416336|        1.0|    3.0|       1.0|[3.0,20.0,12.0,41...|\n",
      "|   Sant Martí| Saturday| 20|  21|      Afternoon|            1|               0|      1|                2|  2.183245|  41.416336|        1.0|    5.0|       0.0|[5.0,20.0,21.0,41...|\n",
      "|   Sant Martí|  Tuesday| 26|  20|      Afternoon|            2|               0|      2|                1|  2.183561|  41.416372|        1.0|    1.0|       0.0|[1.0,26.0,20.0,41...|\n",
      "|   Sant Martí|   Monday| 12|  15|      Afternoon|            1|               0|      1|                1|  2.184059|  41.416763|        1.0|    4.0|       0.0|[4.0,12.0,15.0,41...|\n",
      "|   Sant Martí|Wednesday|  3|  20|      Afternoon|            1|               0|      1|                1|  2.181225|  41.413958|        1.0|    3.0|       0.0|[3.0,3.0,20.0,41....|\n",
      "|   Sant Martí| Thursday| 14|  20|      Afternoon|            1|               0|      1|                2|   2.18229|  41.415772|        1.0|    2.0|       0.0|[2.0,14.0,20.0,41...|\n",
      "|   Sant Martí|Wednesday| 11|   7|        Morning|            1|               0|      1|                2|  2.180453|   41.41579|        1.0|    3.0|       1.0|[3.0,11.0,7.0,41....|\n",
      "|   Sant Martí|   Friday| 30|  12|        Morning|            1|               0|      1|                2|   2.18114|  41.416295|        1.0|    0.0|       1.0|[0.0,30.0,12.0,41...|\n",
      "|   Sant Martí|   Monday|  4|  16|      Afternoon|            0|               1|      1|                2|  2.176324|  41.412546|        1.0|    4.0|       0.0|[4.0,4.0,16.0,41....|\n",
      "|   Sant Martí| Saturday| 30|  19|      Afternoon|            1|               0|      1|                2|  2.176324|  41.412546|        1.0|    5.0|       0.0|[5.0,30.0,19.0,41...|\n",
      "|   Sant Martí|   Monday| 17|  14|      Afternoon|            1|               0|      1|                2|  2.178314|  41.410784|        1.0|    4.0|       0.0|[4.0,17.0,14.0,41...|\n",
      "|   Sant Martí| Saturday| 25|  14|      Afternoon|            4|               0|      4|                2|  2.177719|  41.410323|        1.0|    5.0|       0.0|[5.0,25.0,14.0,41...|\n",
      "|   Sant Martí| Thursday|  9|  22|          Night|            1|               0|      1|                1|   2.17674|  41.411445|        1.0|    2.0|       2.0|[2.0,9.0,22.0,41....|\n",
      "|   Sant Martí|   Monday|  4|   0|          Night|            2|               0|      2|                2|    2.1801|  41.410287|        1.0|    4.0|       2.0|[4.0,4.0,0.0,41.4...|\n",
      "|   Sant Martí|   Friday| 17|  16|      Afternoon|            1|               0|      1|                2|  2.184855|  41.408993|        1.0|    0.0|       0.0|[0.0,17.0,16.0,41...|\n",
      "+-------------+---------+---+----+---------------+-------------+----------------+-------+-----------------+----------+-----------+-----------+-------+----------+--------------------+\n",
      "only showing top 20 rows\n",
      "\n"
     ]
    }
   ],
   "source": [
    "output.show()"
   ]
  },
  {
   "cell_type": "code",
   "execution_count": 31,
   "metadata": {},
   "outputs": [],
   "source": [
    "final_data = output.select('features', 'Victims')"
   ]
  },
  {
   "cell_type": "code",
   "execution_count": 32,
   "metadata": {},
   "outputs": [],
   "source": [
    "train_data, test_data = final_data.randomSplit([0.7, 0.3])"
   ]
  },
  {
   "cell_type": "code",
   "execution_count": 33,
   "metadata": {},
   "outputs": [
    {
     "name": "stdout",
     "output_type": "stream",
     "text": [
      "+-------+------------------+\n",
      "|summary|           Victims|\n",
      "+-------+------------------+\n",
      "|  count|              7230|\n",
      "|   mean|1.1832641770401107|\n",
      "| stddev|0.7269466085052957|\n",
      "|    min|                 0|\n",
      "|    max|                10|\n",
      "+-------+------------------+\n",
      "\n"
     ]
    }
   ],
   "source": [
    "train_data.describe().show()"
   ]
  },
  {
   "cell_type": "code",
   "execution_count": 34,
   "metadata": {},
   "outputs": [
    {
     "name": "stdout",
     "output_type": "stream",
     "text": [
      "+-------+-----------------+\n",
      "|summary|          Victims|\n",
      "+-------+-----------------+\n",
      "|  count|             3109|\n",
      "|   mean|1.167899646188485|\n",
      "| stddev| 0.75387381908355|\n",
      "|    min|                0|\n",
      "|    max|               10|\n",
      "+-------+-----------------+\n",
      "\n"
     ]
    }
   ],
   "source": [
    "test_data.describe().show()"
   ]
  },
  {
   "cell_type": "code",
   "execution_count": 35,
   "metadata": {},
   "outputs": [],
   "source": [
    "from pyspark.ml.regression import LinearRegression"
   ]
  },
  {
   "cell_type": "raw",
   "metadata": {},
   "source": [
    "# Create a Linear Regression Model object"
   ]
  },
  {
   "cell_type": "code",
   "execution_count": 36,
   "metadata": {},
   "outputs": [],
   "source": [
    "lr = LinearRegression(labelCol='Victims')"
   ]
  },
  {
   "cell_type": "code",
   "execution_count": 37,
   "metadata": {},
   "outputs": [],
   "source": [
    "lrModel = lr.fit(train_data)"
   ]
  },
  {
   "cell_type": "raw",
   "metadata": {},
   "source": [
    "# Print the coefficients and intercept for linear regression"
   ]
  },
  {
   "cell_type": "code",
   "execution_count": 38,
   "metadata": {},
   "outputs": [
    {
     "name": "stdout",
     "output_type": "stream",
     "text": [
      "Coefficients: [0.01049047493177089,0.0006768812700867145,0.005694859275880859,0.6079377651890264,-0.2059866489227173,0.0057409327869022385,0.17223071366043902,-0.001005185380628608] Intercept: -23.988992395248918\n"
     ]
    }
   ],
   "source": [
    "print(\"Coefficients: {} Intercept: {}\".format(lrModel.coefficients,lrModel.intercept))"
   ]
  },
  {
   "cell_type": "code",
   "execution_count": 39,
   "metadata": {},
   "outputs": [],
   "source": [
    "test_results = lrModel.evaluate(test_data)"
   ]
  },
  {
   "cell_type": "raw",
   "metadata": {},
   "source": [
    "# Interesting results...."
   ]
  },
  {
   "cell_type": "code",
   "execution_count": 40,
   "metadata": {},
   "outputs": [
    {
     "name": "stdout",
     "output_type": "stream",
     "text": [
      "+--------------------+\n",
      "|           residuals|\n",
      "+--------------------+\n",
      "|-0.11394497239271928|\n",
      "|-0.12780201464620333|\n",
      "|-0.12797539610006936|\n",
      "| -0.1357970127671564|\n",
      "|-0.14006741365031417|\n",
      "|  0.8440536511458916|\n",
      "|-0.15957323496257914|\n",
      "|  0.8791184383529504|\n",
      "|0.008918968160497087|\n",
      "|  0.8387111020767826|\n",
      "|   1.822303576356564|\n",
      "|  0.8258145063886637|\n",
      "| -0.1662557814016985|\n",
      "|  1.0056548983752833|\n",
      "|-0.17928403669360193|\n",
      "|-0.17429920665360754|\n",
      "| -0.1855931202616965|\n",
      "|-0.21564895617880353|\n",
      "|  0.7792372401819812|\n",
      "|  1.7997032347068114|\n",
      "+--------------------+\n",
      "only showing top 20 rows\n",
      "\n"
     ]
    }
   ],
   "source": [
    "test_results.residuals.show()"
   ]
  },
  {
   "cell_type": "code",
   "execution_count": 41,
   "metadata": {},
   "outputs": [],
   "source": [
    "unlabeled_data = test_data.select('features')"
   ]
  },
  {
   "cell_type": "code",
   "execution_count": 42,
   "metadata": {},
   "outputs": [],
   "source": [
    "predictions = lrModel.transform(unlabeled_data)"
   ]
  },
  {
   "cell_type": "code",
   "execution_count": 43,
   "metadata": {},
   "outputs": [
    {
     "name": "stdout",
     "output_type": "stream",
     "text": [
      "+--------------------+------------------+\n",
      "|            features|        prediction|\n",
      "+--------------------+------------------+\n",
      "|[0.0,1.0,8.0,41.3...|1.1139449723927193|\n",
      "|[0.0,1.0,8.0,41.4...|1.1278020146462033|\n",
      "|[0.0,1.0,9.0,41.3...|1.1279753961000694|\n",
      "|[0.0,1.0,10.0,41....|1.1357970127671564|\n",
      "|[0.0,1.0,10.0,41....|1.1400674136503142|\n",
      "|[0.0,1.0,11.0,41....|1.1559463488541084|\n",
      "|[0.0,1.0,11.0,41....|1.1595732349625791|\n",
      "|[0.0,1.0,13.0,41....|1.1208815616470496|\n",
      "|[0.0,1.0,13.0,41....|0.9910810318395029|\n",
      "|[0.0,1.0,13.0,41....|1.1612888979232174|\n",
      "|[0.0,1.0,13.0,41....| 1.177696423643436|\n",
      "|[0.0,1.0,17.0,41....|1.1741854936113363|\n",
      "|[0.0,1.0,18.0,41....|1.1662557814016985|\n",
      "|[0.0,1.0,18.0,41....|0.9943451016247167|\n",
      "|[0.0,1.0,19.0,41....| 1.179284036693602|\n",
      "|[0.0,1.0,19.0,41....|1.1742992066536075|\n",
      "|[0.0,1.0,21.0,41....|1.1855931202616965|\n",
      "|[0.0,1.0,22.0,41....|1.2156489561788035|\n",
      "|[0.0,1.0,22.0,41....|1.2207627598180188|\n",
      "|[0.0,1.0,23.0,41....|1.2002967652931886|\n",
      "+--------------------+------------------+\n",
      "only showing top 20 rows\n",
      "\n"
     ]
    }
   ],
   "source": [
    "predictions.show()"
   ]
  },
  {
   "cell_type": "code",
   "execution_count": 44,
   "metadata": {},
   "outputs": [
    {
     "name": "stdout",
     "output_type": "stream",
     "text": [
      "RMSE: 0.7461745204550325\n",
      "MSE: 0.5567764149762978\n",
      "R2:0.02000644424568243\n"
     ]
    }
   ],
   "source": [
    "print(\"RMSE: {}\".format(test_results.rootMeanSquaredError))\n",
    "print(\"MSE: {}\".format(test_results.meanSquaredError))\n",
    "print('R2:{}'.format(test_results.r2))"
   ]
  },
  {
   "cell_type": "code",
   "execution_count": 45,
   "metadata": {},
   "outputs": [],
   "source": [
    "fdata = lrModel.transform(test_data)"
   ]
  },
  {
   "cell_type": "code",
   "execution_count": 46,
   "metadata": {},
   "outputs": [
    {
     "name": "stdout",
     "output_type": "stream",
     "text": [
      "+--------------------+-------+------------------+\n",
      "|            features|Victims|        prediction|\n",
      "+--------------------+-------+------------------+\n",
      "|[0.0,1.0,8.0,41.3...|      1|1.1139449723927193|\n",
      "|[0.0,1.0,8.0,41.4...|      1|1.1278020146462033|\n",
      "|[0.0,1.0,9.0,41.3...|      1|1.1279753961000694|\n",
      "|[0.0,1.0,10.0,41....|      1|1.1357970127671564|\n",
      "|[0.0,1.0,10.0,41....|      1|1.1400674136503142|\n",
      "|[0.0,1.0,11.0,41....|      2|1.1559463488541084|\n",
      "|[0.0,1.0,11.0,41....|      1|1.1595732349625791|\n",
      "|[0.0,1.0,13.0,41....|      2|1.1208815616470496|\n",
      "|[0.0,1.0,13.0,41....|      1|0.9910810318395029|\n",
      "|[0.0,1.0,13.0,41....|      2|1.1612888979232174|\n",
      "|[0.0,1.0,13.0,41....|      3| 1.177696423643436|\n",
      "|[0.0,1.0,17.0,41....|      2|1.1741854936113363|\n",
      "|[0.0,1.0,18.0,41....|      1|1.1662557814016985|\n",
      "|[0.0,1.0,18.0,41....|      2|0.9943451016247167|\n",
      "|[0.0,1.0,19.0,41....|      1| 1.179284036693602|\n",
      "|[0.0,1.0,19.0,41....|      1|1.1742992066536075|\n",
      "|[0.0,1.0,21.0,41....|      1|1.1855931202616965|\n",
      "|[0.0,1.0,22.0,41....|      1|1.2156489561788035|\n",
      "|[0.0,1.0,22.0,41....|      2|1.2207627598180188|\n",
      "|[0.0,1.0,23.0,41....|      3|1.2002967652931886|\n",
      "+--------------------+-------+------------------+\n",
      "only showing top 20 rows\n",
      "\n"
     ]
    }
   ],
   "source": [
    "fdata.show()"
   ]
  },
  {
   "cell_type": "code",
   "execution_count": 47,
   "metadata": {},
   "outputs": [],
   "source": [
    "import matplotlib.pyplot as plt\n",
    "%matplotlib inline"
   ]
  },
  {
   "cell_type": "code",
   "execution_count": 48,
   "metadata": {},
   "outputs": [
    {
     "name": "stdout",
     "output_type": "stream",
     "text": [
      "+-------+-----------------+------------------+\n",
      "|summary|          Victims|        prediction|\n",
      "+-------+-----------------+------------------+\n",
      "|  count|             3109|              3109|\n",
      "|   mean|1.167899646188485|1.1793393400912686|\n",
      "| stddev| 0.75387381908355|0.1277375459177813|\n",
      "|    min|                0|0.8331459270212243|\n",
      "|    max|               10| 2.745132622188148|\n",
      "+-------+-----------------+------------------+\n",
      "\n"
     ]
    }
   ],
   "source": [
    "fdata.describe().show()"
   ]
  },
  {
   "cell_type": "code",
   "execution_count": 49,
   "metadata": {},
   "outputs": [
    {
     "data": {
      "text/plain": [
       "DataFrame[summary: string, Victims: string, prediction: string]"
      ]
     },
     "execution_count": 49,
     "metadata": {},
     "output_type": "execute_result"
    }
   ],
   "source": [
    "fdata.summary()"
   ]
  },
  {
   "cell_type": "code",
   "execution_count": 50,
   "metadata": {},
   "outputs": [],
   "source": [
    "import pandas as pd\n",
    "import numpy as np\n",
    "import matplotlib.pyplot as plt\n",
    "import seaborn as sns\n",
    "from sklearn.model_selection import train_test_split\n",
    "from sklearn.linear_model import LinearRegression\n",
    "from sklearn.metrics import r2_score\n",
    "\n",
    "sns.set()\n",
    "%matplotlib inline"
   ]
  },
  {
   "cell_type": "code",
   "execution_count": 51,
   "metadata": {},
   "outputs": [],
   "source": [
    "from pyspark.sql.functions import corr"
   ]
  },
  {
   "cell_type": "code",
   "execution_count": 52,
   "metadata": {},
   "outputs": [],
   "source": [
    "df1 = fdata.toPandas()"
   ]
  },
  {
   "cell_type": "code",
   "execution_count": 53,
   "metadata": {},
   "outputs": [
    {
     "data": {
      "text/html": [
       "<div>\n",
       "<style scoped>\n",
       "    .dataframe tbody tr th:only-of-type {\n",
       "        vertical-align: middle;\n",
       "    }\n",
       "\n",
       "    .dataframe tbody tr th {\n",
       "        vertical-align: top;\n",
       "    }\n",
       "\n",
       "    .dataframe thead th {\n",
       "        text-align: right;\n",
       "    }\n",
       "</style>\n",
       "<table border=\"1\" class=\"dataframe\">\n",
       "  <thead>\n",
       "    <tr style=\"text-align: right;\">\n",
       "      <th></th>\n",
       "      <th>features</th>\n",
       "      <th>Victims</th>\n",
       "      <th>prediction</th>\n",
       "    </tr>\n",
       "  </thead>\n",
       "  <tbody>\n",
       "    <tr>\n",
       "      <td>0</td>\n",
       "      <td>[0.0, 1.0, 8.0, 41.386697, 2.174926, 1.0, 2.0,...</td>\n",
       "      <td>1</td>\n",
       "      <td>1.113945</td>\n",
       "    </tr>\n",
       "    <tr>\n",
       "      <td>1</td>\n",
       "      <td>[0.0, 1.0, 8.0, 41.411499, 2.205253, 1.0, 2.0,...</td>\n",
       "      <td>1</td>\n",
       "      <td>1.127802</td>\n",
       "    </tr>\n",
       "    <tr>\n",
       "      <td>2</td>\n",
       "      <td>[0.0, 1.0, 9.0, 41.387244, 2.165353, 1.0, 2.0,...</td>\n",
       "      <td>1</td>\n",
       "      <td>1.127975</td>\n",
       "    </tr>\n",
       "    <tr>\n",
       "      <td>3</td>\n",
       "      <td>[0.0, 1.0, 10.0, 41.386489, 2.1528, 1.0, 2.0, ...</td>\n",
       "      <td>1</td>\n",
       "      <td>1.135797</td>\n",
       "    </tr>\n",
       "    <tr>\n",
       "      <td>4</td>\n",
       "      <td>[0.0, 1.0, 10.0, 41.394475, 2.155638, 1.0, 2.0...</td>\n",
       "      <td>1</td>\n",
       "      <td>1.140067</td>\n",
       "    </tr>\n",
       "  </tbody>\n",
       "</table>\n",
       "</div>"
      ],
      "text/plain": [
       "                                            features  Victims  prediction\n",
       "0  [0.0, 1.0, 8.0, 41.386697, 2.174926, 1.0, 2.0,...        1    1.113945\n",
       "1  [0.0, 1.0, 8.0, 41.411499, 2.205253, 1.0, 2.0,...        1    1.127802\n",
       "2  [0.0, 1.0, 9.0, 41.387244, 2.165353, 1.0, 2.0,...        1    1.127975\n",
       "3  [0.0, 1.0, 10.0, 41.386489, 2.1528, 1.0, 2.0, ...        1    1.135797\n",
       "4  [0.0, 1.0, 10.0, 41.394475, 2.155638, 1.0, 2.0...        1    1.140067"
      ]
     },
     "execution_count": 53,
     "metadata": {},
     "output_type": "execute_result"
    }
   ],
   "source": [
    "df1.head()"
   ]
  },
  {
   "cell_type": "code",
   "execution_count": 54,
   "metadata": {},
   "outputs": [
    {
     "data": {
      "text/html": [
       "<div>\n",
       "<style scoped>\n",
       "    .dataframe tbody tr th:only-of-type {\n",
       "        vertical-align: middle;\n",
       "    }\n",
       "\n",
       "    .dataframe tbody tr th {\n",
       "        vertical-align: top;\n",
       "    }\n",
       "\n",
       "    .dataframe thead th {\n",
       "        text-align: right;\n",
       "    }\n",
       "</style>\n",
       "<table border=\"1\" class=\"dataframe\">\n",
       "  <thead>\n",
       "    <tr style=\"text-align: right;\">\n",
       "      <th></th>\n",
       "      <th>features</th>\n",
       "      <th>Victims</th>\n",
       "      <th>prediction</th>\n",
       "    </tr>\n",
       "  </thead>\n",
       "  <tbody>\n",
       "    <tr>\n",
       "      <td>2811</td>\n",
       "      <td>[5.0, 30.0, 13.0, 41.440756, 2.190726, 1.0, 2....</td>\n",
       "      <td>10</td>\n",
       "      <td>1.243106</td>\n",
       "    </tr>\n",
       "  </tbody>\n",
       "</table>\n",
       "</div>"
      ],
      "text/plain": [
       "                                               features  Victims  prediction\n",
       "2811  [5.0, 30.0, 13.0, 41.440756, 2.190726, 1.0, 2....       10    1.243106"
      ]
     },
     "execution_count": 54,
     "metadata": {},
     "output_type": "execute_result"
    }
   ],
   "source": [
    "#Find which weekday had maximum Victims\n",
    "df1.iloc[[df1['Victims'].idxmax()]]"
   ]
  },
  {
   "cell_type": "code",
   "execution_count": 65,
   "metadata": {},
   "outputs": [
    {
     "data": {
      "image/png": "[encoded data removed]",
      "text/plain": [
       "<Figure size 432x288 with 1 Axes>"
      ]
     },
     "metadata": {
      "needs_background": "light"
     },
     "output_type": "display_data"
    }
   ],
   "source": [
    "#Plot data using bar chart\n",
    "df = df1.drop('prediction', axis=1)\n",
    "ax = df1.plot(x = 'features', kind = 'line')\n",
    "plt.xticks(rotation=20)\n",
    "plt.xlabel('features')\n",
    "plt.ylabel('prediction')\n",
    "plt.title('Victims')\n",
    "plt.savefig('Safe_Districts.png')\n",
    "plt.show()"
   ]
  },
  {
   "cell_type": "code",
   "execution_count": 56,
   "metadata": {},
   "outputs": [],
   "source": [
    "df = pdata.toPandas()"
   ]
  },
  {
   "cell_type": "code",
   "execution_count": 57,
   "metadata": {},
   "outputs": [
    {
     "data": {
      "text/html": [
       "<div>\n",
       "<style scoped>\n",
       "    .dataframe tbody tr th:only-of-type {\n",
       "        vertical-align: middle;\n",
       "    }\n",
       "\n",
       "    .dataframe tbody tr th {\n",
       "        vertical-align: top;\n",
       "    }\n",
       "\n",
       "    .dataframe thead th {\n",
       "        text-align: right;\n",
       "    }\n",
       "</style>\n",
       "<table border=\"1\" class=\"dataframe\">\n",
       "  <thead>\n",
       "    <tr style=\"text-align: right;\">\n",
       "      <th></th>\n",
       "      <th>District Name</th>\n",
       "      <th>Weekday</th>\n",
       "      <th>Day</th>\n",
       "      <th>Hour</th>\n",
       "      <th>Part of the day</th>\n",
       "      <th>Mild injuries</th>\n",
       "      <th>Serious injuries</th>\n",
       "      <th>Victims</th>\n",
       "      <th>Vehicles involved</th>\n",
       "      <th>Longitude</th>\n",
       "      <th>Latitude</th>\n",
       "      <th>DName_Index</th>\n",
       "      <th>W_Index</th>\n",
       "      <th>Pday_Index</th>\n",
       "    </tr>\n",
       "  </thead>\n",
       "  <tbody>\n",
       "    <tr>\n",
       "      <td>0</td>\n",
       "      <td>Unknown</td>\n",
       "      <td>Friday</td>\n",
       "      <td>13</td>\n",
       "      <td>8</td>\n",
       "      <td>Morning</td>\n",
       "      <td>2</td>\n",
       "      <td>0</td>\n",
       "      <td>2</td>\n",
       "      <td>2</td>\n",
       "      <td>2.125624</td>\n",
       "      <td>41.340045</td>\n",
       "      <td>10.0</td>\n",
       "      <td>0.0</td>\n",
       "      <td>1.0</td>\n",
       "    </tr>\n",
       "    <tr>\n",
       "      <td>1</td>\n",
       "      <td>Unknown</td>\n",
       "      <td>Friday</td>\n",
       "      <td>1</td>\n",
       "      <td>13</td>\n",
       "      <td>Morning</td>\n",
       "      <td>2</td>\n",
       "      <td>0</td>\n",
       "      <td>2</td>\n",
       "      <td>2</td>\n",
       "      <td>2.120452</td>\n",
       "      <td>41.339426</td>\n",
       "      <td>10.0</td>\n",
       "      <td>0.0</td>\n",
       "      <td>1.0</td>\n",
       "    </tr>\n",
       "    <tr>\n",
       "      <td>2</td>\n",
       "      <td>Unknown</td>\n",
       "      <td>Friday</td>\n",
       "      <td>8</td>\n",
       "      <td>21</td>\n",
       "      <td>Afternoon</td>\n",
       "      <td>5</td>\n",
       "      <td>0</td>\n",
       "      <td>5</td>\n",
       "      <td>2</td>\n",
       "      <td>2.167356</td>\n",
       "      <td>41.360886</td>\n",
       "      <td>10.0</td>\n",
       "      <td>0.0</td>\n",
       "      <td>0.0</td>\n",
       "    </tr>\n",
       "    <tr>\n",
       "      <td>3</td>\n",
       "      <td>Unknown</td>\n",
       "      <td>Friday</td>\n",
       "      <td>21</td>\n",
       "      <td>2</td>\n",
       "      <td>Night</td>\n",
       "      <td>1</td>\n",
       "      <td>0</td>\n",
       "      <td>1</td>\n",
       "      <td>2</td>\n",
       "      <td>2.124529</td>\n",
       "      <td>41.337668</td>\n",
       "      <td>10.0</td>\n",
       "      <td>0.0</td>\n",
       "      <td>2.0</td>\n",
       "    </tr>\n",
       "    <tr>\n",
       "      <td>4</td>\n",
       "      <td>Sant Martí</td>\n",
       "      <td>Thursday</td>\n",
       "      <td>25</td>\n",
       "      <td>14</td>\n",
       "      <td>Afternoon</td>\n",
       "      <td>1</td>\n",
       "      <td>0</td>\n",
       "      <td>1</td>\n",
       "      <td>3</td>\n",
       "      <td>2.185272</td>\n",
       "      <td>41.416365</td>\n",
       "      <td>1.0</td>\n",
       "      <td>2.0</td>\n",
       "      <td>0.0</td>\n",
       "    </tr>\n",
       "  </tbody>\n",
       "</table>\n",
       "</div>"
      ],
      "text/plain": [
       "  District Name   Weekday  Day  Hour Part of the day  Mild injuries  \\\n",
       "0       Unknown    Friday   13     8         Morning              2   \n",
       "1       Unknown    Friday    1    13         Morning              2   \n",
       "2       Unknown    Friday    8    21       Afternoon              5   \n",
       "3       Unknown    Friday   21     2           Night              1   \n",
       "4    Sant Martí  Thursday   25    14       Afternoon              1   \n",
       "\n",
       "   Serious injuries  Victims  Vehicles involved  Longitude   Latitude  \\\n",
       "0                 0        2                  2   2.125624  41.340045   \n",
       "1                 0        2                  2   2.120452  41.339426   \n",
       "2                 0        5                  2   2.167356  41.360886   \n",
       "3                 0        1                  2   2.124529  41.337668   \n",
       "4                 0        1                  3   2.185272  41.416365   \n",
       "\n",
       "   DName_Index  W_Index  Pday_Index  \n",
       "0         10.0      0.0         1.0  \n",
       "1         10.0      0.0         1.0  \n",
       "2         10.0      0.0         0.0  \n",
       "3         10.0      0.0         2.0  \n",
       "4          1.0      2.0         0.0  "
      ]
     },
     "execution_count": 57,
     "metadata": {},
     "output_type": "execute_result"
    }
   ],
   "source": [
    "df.head()"
   ]
  },
  {
   "cell_type": "code",
   "execution_count": 58,
   "metadata": {},
   "outputs": [],
   "source": [
    "pltdata = pdata.select('District Name', 'Victims', 'Vehicles involved')"
   ]
  },
  {
   "cell_type": "code",
   "execution_count": 59,
   "metadata": {},
   "outputs": [],
   "source": [
    "pltdf = pltdata.toPandas()"
   ]
  },
  {
   "cell_type": "code",
   "execution_count": 60,
   "metadata": {},
   "outputs": [
    {
     "data": {
      "text/html": [
       "<div>\n",
       "<style scoped>\n",
       "    .dataframe tbody tr th:only-of-type {\n",
       "        vertical-align: middle;\n",
       "    }\n",
       "\n",
       "    .dataframe tbody tr th {\n",
       "        vertical-align: top;\n",
       "    }\n",
       "\n",
       "    .dataframe thead th {\n",
       "        text-align: right;\n",
       "    }\n",
       "</style>\n",
       "<table border=\"1\" class=\"dataframe\">\n",
       "  <thead>\n",
       "    <tr style=\"text-align: right;\">\n",
       "      <th></th>\n",
       "      <th>District Name</th>\n",
       "      <th>Victims</th>\n",
       "      <th>Vehicles involved</th>\n",
       "    </tr>\n",
       "  </thead>\n",
       "  <tbody>\n",
       "    <tr>\n",
       "      <td>0</td>\n",
       "      <td>Unknown</td>\n",
       "      <td>2</td>\n",
       "      <td>2</td>\n",
       "    </tr>\n",
       "    <tr>\n",
       "      <td>1</td>\n",
       "      <td>Unknown</td>\n",
       "      <td>2</td>\n",
       "      <td>2</td>\n",
       "    </tr>\n",
       "    <tr>\n",
       "      <td>2</td>\n",
       "      <td>Unknown</td>\n",
       "      <td>5</td>\n",
       "      <td>2</td>\n",
       "    </tr>\n",
       "    <tr>\n",
       "      <td>3</td>\n",
       "      <td>Unknown</td>\n",
       "      <td>1</td>\n",
       "      <td>2</td>\n",
       "    </tr>\n",
       "    <tr>\n",
       "      <td>4</td>\n",
       "      <td>Sant Martí</td>\n",
       "      <td>1</td>\n",
       "      <td>3</td>\n",
       "    </tr>\n",
       "  </tbody>\n",
       "</table>\n",
       "</div>"
      ],
      "text/plain": [
       "  District Name  Victims  Vehicles involved\n",
       "0       Unknown        2                  2\n",
       "1       Unknown        2                  2\n",
       "2       Unknown        5                  2\n",
       "3       Unknown        1                  2\n",
       "4    Sant Martí        1                  3"
      ]
     },
     "execution_count": 60,
     "metadata": {},
     "output_type": "execute_result"
    }
   ],
   "source": [
    "pltdf.head()"
   ]
  },
  {
   "cell_type": "code",
   "execution_count": 61,
   "metadata": {},
   "outputs": [
    {
     "data": {
      "image/png": "[encoded data removed]",
      "text/plain": [
       "<Figure size 432x288 with 1 Axes>"
      ]
     },
     "metadata": {
      "needs_background": "light"
     },
     "output_type": "display_data"
    }
   ],
   "source": [
    "#Plot data using bar chart\n",
    "df2 = pltdf.drop('Victims', axis=1)\n",
    "ax = pltdf.plot(x = 'District Name', kind = 'line')\n",
    "plt.xticks(rotation=20)\n",
    "plt.xlabel('District')\n",
    "plt.ylabel('Victims')\n",
    "plt.title('Safe Districts')\n",
    "plt.savefig('Safe_Districts.png')\n",
    "plt.show()"
   ]
  },
  {
   "cell_type": "code",
   "execution_count": null,
   "metadata": {},
   "outputs": [],
   "source": []
  }
 ],
 "metadata": {
  "kernelspec": {
   "display_name": "Python 3",
   "language": "python",
   "name": "python3"
  },
  "language_info": {
   "codemirror_mode": {
    "name": "ipython",
    "version": 3
   },
   "file_extension": ".py",
   "mimetype": "text/x-python",
   "name": "python",
   "nbconvert_exporter": "python",
   "pygments_lexer": "ipython3",
   "version": "3.6.8"
  }
 },
 "nbformat": 4,
 "nbformat_minor": 2
}
